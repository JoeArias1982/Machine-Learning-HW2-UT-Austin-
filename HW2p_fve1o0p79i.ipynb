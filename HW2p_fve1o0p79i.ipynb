{
  "cells": [
    {
      "cell_type": "markdown",
      "metadata": {
        "id": "view-in-github",
        "colab_type": "text"
      },
      "source": [
        "<a href=\"https://colab.research.google.com/github/JoeArias1982/Machine-Learning-HW2-UT-Austin-/blob/main/HW2p_fve1o0p79i.ipynb\" target=\"_parent\"><img src=\"https://colab.research.google.com/assets/colab-badge.svg\" alt=\"Open In Colab\"/></a>"
      ]
    },
    {
      "cell_type": "code",
      "execution_count": 56,
      "metadata": {
        "id": "1Rg2uSiFSRJe"
      },
      "outputs": [],
      "source": [
        "import numpy as np\n",
        "import matplotlib.pyplot as plt"
      ]
    },
    {
      "cell_type": "markdown",
      "metadata": {
        "id": "oDTSO7-MSRJj"
      },
      "source": [
        "# Problem 1\n",
        "## Dataset Generation"
      ]
    },
    {
      "cell_type": "markdown",
      "metadata": {
        "id": "Tx7KW28cSRJk"
      },
      "source": [
        "Write a function to **generate a training set** of size $m$\n",
        "- randomly generate a weight vector $w \\in \\mathbb{R}^{10}$, normalize length\n",
        "- generate a training set $\\{(x_i , y_i)\\}$ of size m\n",
        "  - $x_i$: random vector in $\\mathbb{R}^{10}$ from $\\textbf{N}(0, I)$\n",
        "  - $y_i$: $\\{0, +1\\}$ with $P[y = +1] = \\sigma(w \\cdot x_i)$ and $P[y = 0] = 1 - \\sigma(w \\cdot x_i)$"
      ]
    },
    {
      "cell_type": "code",
      "execution_count": 57,
      "metadata": {
        "id": "AUHuXrsgSRJl"
      },
      "outputs": [],
      "source": [
        "def generate_data(m):\n",
        "    # returns the true w as well as X, Y data\n",
        "    w = np.random.randn(10) #Random vector from N(0, I)\n",
        "    w = w / np.linalg.norm(w) #Normalize the lenght of w\n",
        "\n",
        "    X = np.random.randn(m, 10) #Random vector from N(0, I)\n",
        "    z = np.dot(X, w) #Dot product for all products\n",
        "    p_y_eq_1 = 1 / (1 + np.exp(-z)) #Sigmoid function\n",
        "    Y = np.random.rand(m) < p_y_eq_1 #Determine yi based on P[y=+1]\n",
        "\n",
        "    return w, X, Y.astype(int)\n",
        "\n",
        "\n",
        "    ..."
      ]
    },
    {
      "cell_type": "markdown",
      "metadata": {
        "id": "wx2-15fASRJy"
      },
      "source": [
        "## Algorithm 1: logistic regression\n",
        "\n",
        "The goal is to learn $w$.  Algorithm 1 is logistic\n",
        "  regression (you may use the built-in method LogisticRegression for this. Use max_iter=1000)."
      ]
    },
    {
      "cell_type": "code",
      "execution_count": 58,
      "metadata": {
        "colab": {
          "base_uri": "https://localhost:8080/"
        },
        "id": "Vj8b21jgSRJz",
        "outputId": "beec791f-457d-4027-9541-9f756a31545e"
      },
      "outputs": [
        {
          "output_type": "stream",
          "name": "stdout",
          "text": [
            "True Weights: [-0.38241277 -0.04009323 -0.03642209 -0.09661738  0.01230829  0.15958235\n",
            " -0.53678234  0.08759006  0.1799299   0.69834908]\n",
            "Learned Weights: [-7.71353203e-01  4.13029146e-01  9.24737474e-05  3.67471285e-01\n",
            " -5.54723731e-02  1.08390508e-01 -4.84815371e-01  3.80404339e-01\n",
            "  2.21698431e-01  1.15830068e+00]\n",
            "Intercept: 0.06055448512655726\n"
          ]
        }
      ],
      "source": [
        "from re import X\n",
        "from sklearn.linear_model import LogisticRegression\n",
        "\n",
        "def learn_weights_logistic_regression(X,y):\n",
        "  #Create and fit the logistic regression model\n",
        "  model = LogisticRegression(max_iter=1000)\n",
        "  model.fit(X,y)\n",
        "\n",
        "  w_learned = model.coef_[0] #Coefficient of the features\n",
        "  intercept = model.intercept_[0] #Intercept term\n",
        "\n",
        "  return w_learned, intercept\n",
        "\n",
        "#Example Usage\n",
        "m = 100 #Size of the training set\n",
        "true_w, X, Y = generate_data(m)\n",
        "w_learned, intercept = learn_weights_logistic_regression(X,Y)\n",
        "\n",
        "print(\"True Weights:\", true_w)\n",
        "print(\"Learned Weights:\", w_learned)\n",
        "print(\"Intercept:\", intercept)"
      ]
    },
    {
      "cell_type": "markdown",
      "metadata": {
        "id": "YzmNdy6ZSRJ3"
      },
      "source": [
        "## Algorithm 2: gradient descent with square loss\n",
        "\n",
        "Define square loss as\n",
        "$$L_i(w^{(t)}) = \\frac{1}{2} \\left( \\sigma(w^{(t)} \\cdot x) - y_i \\right)^2$$\n",
        "\n",
        "  Algorithm 2 is\n",
        "  gradient descent with respect to square loss (code this\n",
        "  up yourself -- run for 1000 iterations, use step size eta = 0.01)."
      ]
    },
    {
      "cell_type": "code",
      "source": [
        "def sigmoid(z):\n",
        "\n",
        "  return 1 / (1 + np.exp(-z))\n",
        "\n",
        "def compute_gradient(X, Y, w):\n",
        "  m = len(Y)\n",
        "  gradient = np.zeros((w.shape[0],)) #Correct initialization\n",
        "  for i in range(m):\n",
        "    xi = X[i]\n",
        "    yi = Y[i]\n",
        "    sigma_wxi = sigmoid(w.dot(xi))\n",
        "    gradient += (sigma_wxi - yi) * sigma_wxi * (1 - sigma_wxi) * xi\n",
        "\n",
        "  return gradient / m\n",
        "\n",
        "def gradient_descent_square_loss(X, Y, eta=0.01, max_iter=1000):\n",
        "  #Initialize the weights\n",
        "  w = np.zeros(X.shape[1])\n",
        "\n",
        "  #Run gradient descent\n",
        "  for t in range(max_iter):\n",
        "    #Calculate the gradient\n",
        "    gradient = compute_gradient(X, Y, w)\n",
        "\n",
        "    #Update the weights\n",
        "    w = w - eta * gradient\n",
        "\n",
        "  return w\n",
        "\n",
        "\n",
        "true_w, X, Y = generate_data(m)\n",
        "w_learned = gradient_descent_square_loss(X,Y)\n",
        "\n",
        "print(\"True Weights:\", true_w)\n",
        "print(\"Learned Weights:\", w_learned)\n"
      ],
      "metadata": {
        "colab": {
          "base_uri": "https://localhost:8080/"
        },
        "id": "z31NEywNJhlm",
        "outputId": "dbbbb9c0-c002-497a-87f9-a44369e7e228"
      },
      "execution_count": 59,
      "outputs": [
        {
          "output_type": "stream",
          "name": "stdout",
          "text": [
            "True Weights: [-0.120355   -0.07430969 -0.40899663 -0.35937315  0.40655043 -0.58797156\n",
            " -0.05831472 -0.1489248   0.23974165  0.29919286]\n",
            "Learned Weights: [ 0.01480639 -0.02406549 -0.0699655  -0.11241644  0.06429068 -0.1014454\n",
            "  0.07723954 -0.07228264  0.00221064  0.16154099]\n"
          ]
        }
      ]
    },
    {
      "cell_type": "markdown",
      "metadata": {
        "id": "-jIN5Imj__U-"
      },
      "source": [
        "## Algorithm 3: stochastic gradient descent with square loss\n",
        "Similar to gradient descent, except we use the gradient at a single random training point every iteration."
      ]
    },
    {
      "cell_type": "code",
      "execution_count": 60,
      "metadata": {
        "colab": {
          "base_uri": "https://localhost:8080/"
        },
        "id": "YjNtxmoO__U-",
        "outputId": "67859793-5f1c-45a8-fcc7-f2fac80154e2"
      },
      "outputs": [
        {
          "output_type": "stream",
          "name": "stdout",
          "text": [
            "True Weights: [ 0.53360679  0.1363831  -0.47289919 -0.14971077 -0.10249376  0.40739276\n",
            " -0.20873599  0.33630032  0.33913251 -0.04963034]\n",
            "Learned Weights (SGD): [ 0.18091363 -0.05093872  0.03069843 -0.16915    -0.06179078 -0.05313632\n",
            " -0.17049521  0.17199589 -0.09859939  0.02206551]\n"
          ]
        }
      ],
      "source": [
        "def sigmoid(z):\n",
        "    return 1 / (1 + np.exp(-z))\n",
        "\n",
        "def compute_stochastic_gradient(x_i, y_i, w):\n",
        "    sigma_wxi = sigmoid(np.dot(w, x_i))\n",
        "    gradient = (sigma_wxi - y_i) * sigma_wxi * (1 - sigma_wxi) * x_i\n",
        "    return gradient\n",
        "\n",
        "def stochastic_gradient_descent_square_loss(X, Y, eta=0.01, max_iter=1000):\n",
        "    w = np.zeros(X.shape[1])  # Initialize the weights\n",
        "    m = len(Y)\n",
        "\n",
        "    for t in range(max_iter):\n",
        "        i = np.random.randint(0, m)  # Select a random training example\n",
        "        x_i = X[i]\n",
        "        y_i = Y[i]\n",
        "\n",
        "        gradient = compute_stochastic_gradient(x_i, y_i, w)\n",
        "        w = w - eta * gradient  # Update the weights\n",
        "\n",
        "    return w\n",
        "\n",
        "# Assuming the data is already generated\n",
        "true_w, X, Y = generate_data(m)  # Use the generate_data function from before\n",
        "w_learned_sgd = stochastic_gradient_descent_square_loss(X, Y)\n",
        "\n",
        "print(\"True Weights:\", true_w)\n",
        "print(\"Learned Weights (SGD):\", w_learned_sgd)\n",
        "\n"
      ]
    },
    {
      "cell_type": "markdown",
      "source": [],
      "metadata": {
        "id": "DkqsudHqS85C"
      }
    },
    {
      "cell_type": "markdown",
      "metadata": {
        "id": "5A-dLi3TSRJ-"
      },
      "source": [
        "## Evaluation\n",
        "\n",
        "Measure error $\\|w - \\hat{w}\\|_2$ for each method at different sample size. For any\n",
        "  fixed value of $m$, choose many different $w$'s and average the\n",
        "  values $\\|w -\n",
        "  \\hat{w}\\|_2$ for Algorithms 1, 2 and 3.  Plot the results\n",
        "  for for each algorithm as you make $m$ large (use $m=50, 100, 150, 200, 250$).\n",
        "  Also record, for each algorithm, the time taken to run the overall experiment."
      ]
    },
    {
      "cell_type": "code",
      "source": [
        "from time import time\n",
        "import numpy as np\n",
        "\n",
        "# Assuming generate_data, learn_weights_logistic_regression, gradient_descent_square_loss, and stochastic_gradient_descent_square_loss are defined\n",
        "\n",
        "# Define a dictionary to hold the algorithms\n",
        "algorithms = {\n",
        "    \"Logistic Regression\": learn_weights_logistic_regression,\n",
        "    \"Gradient Descent\": gradient_descent_square_loss,\n",
        "    \"SGD\": stochastic_gradient_descent_square_loss\n",
        "}\n",
        "\n",
        "ms = [50, 100, 150, 200, 250]  # Different sample sizes\n",
        "\n",
        "# Initialize a dictionary to store results\n",
        "results = {algo: {\"errors\": [], \"times\": []} for algo in algorithms}\n",
        "\n",
        "for m in ms:\n",
        "    for algo_name, algo_func in algorithms.items():\n",
        "        start_time = time()\n",
        "        error_sum = 0\n",
        "        for _ in range(10):  # Averaging over different w's\n",
        "            true_w, X, Y = generate_data(m)\n",
        "            if algo_name == \"Logistic Regression\":\n",
        "                w_learned, _ = algo_func(X, Y)  # Adjusting for LR returning w and intercept\n",
        "            else:\n",
        "                w_learned = algo_func(X, Y)  # GD and SGD return only w\n",
        "            error_sum += np.linalg.norm(true_w - w_learned)\n",
        "        avg_error = error_sum / 10\n",
        "        results[algo_name][\"errors\"].append(avg_error)\n",
        "        results[algo_name][\"times\"].append(time() - start_time)\n",
        "\n",
        "# Displaying the results\n",
        "for algo_name in algorithms:\n",
        "    print(f\"{algo_name}:\")\n",
        "    for m, error, time_taken in zip(ms, results[algo_name][\"errors\"], results[algo_name][\"times\"]):\n",
        "        print(f\"  m={m}, Average Error: {error:.3f}, Time: {time_taken:.2f} seconds\")\n"
      ],
      "metadata": {
        "colab": {
          "base_uri": "https://localhost:8080/"
        },
        "id": "oWBoWRZrYpP9",
        "outputId": "490be05b-d91b-446f-9eec-ac4505152261"
      },
      "execution_count": 61,
      "outputs": [
        {
          "output_type": "stream",
          "name": "stdout",
          "text": [
            "Logistic Regression:\n",
            "  m=50, Average Error: 0.954, Time: 0.04 seconds\n",
            "  m=100, Average Error: 0.829, Time: 0.03 seconds\n",
            "  m=150, Average Error: 0.620, Time: 0.02 seconds\n",
            "  m=200, Average Error: 0.502, Time: 0.03 seconds\n",
            "  m=250, Average Error: 0.475, Time: 0.03 seconds\n",
            "Gradient Descent:\n",
            "  m=50, Average Error: 0.748, Time: 2.79 seconds\n",
            "  m=100, Average Error: 0.707, Time: 6.60 seconds\n",
            "  m=150, Average Error: 0.690, Time: 8.21 seconds\n",
            "  m=200, Average Error: 0.643, Time: 10.79 seconds\n",
            "  m=250, Average Error: 0.667, Time: 13.86 seconds\n",
            "SGD:\n",
            "  m=50, Average Error: 0.722, Time: 0.11 seconds\n",
            "  m=100, Average Error: 0.710, Time: 0.12 seconds\n",
            "  m=150, Average Error: 0.693, Time: 0.20 seconds\n",
            "  m=200, Average Error: 0.660, Time: 0.24 seconds\n",
            "  m=250, Average Error: 0.623, Time: 0.20 seconds\n"
          ]
        }
      ]
    },
    {
      "cell_type": "markdown",
      "metadata": {
        "id": "cSH0N-_Q__U-"
      },
      "source": [
        "# Problem 2"
      ]
    },
    {
      "cell_type": "code",
      "execution_count": 62,
      "metadata": {
        "id": "rmKINriq__U-"
      },
      "outputs": [],
      "source": [
        "from sklearn import datasets"
      ]
    },
    {
      "cell_type": "code",
      "execution_count": 63,
      "metadata": {
        "id": "KIsfil3d__U-"
      },
      "outputs": [],
      "source": [
        "cancer = datasets.load_breast_cancer()"
      ]
    },
    {
      "cell_type": "markdown",
      "metadata": {
        "id": "Hu5jwGlz__U_"
      },
      "source": [
        "For each depth in $1, \\dots, 5$, instantiate an AdaBoost classifier with the base learner set to be a decision tree of that depth (set `n_estimators=10` and `learning_rate=1`), and then record the 10-fold cross-validated error on the entire breast cancer data set. Plot the resulting curve of accuracy against base classifier depth. Use $101$ as your random state for both the base learner as well as the AdaBoost classifier every time."
      ]
    },
    {
      "cell_type": "code",
      "execution_count": 64,
      "metadata": {
        "colab": {
          "base_uri": "https://localhost:8080/",
          "height": 1000
        },
        "id": "rlWlsQAi__U_",
        "outputId": "590610d1-2b6a-4fb0-9d43-f78030319a5e"
      },
      "outputs": [
        {
          "output_type": "stream",
          "name": "stderr",
          "text": [
            "/usr/local/lib/python3.10/dist-packages/sklearn/ensemble/_base.py:166: FutureWarning: `base_estimator` was renamed to `estimator` in version 1.2 and will be removed in 1.4.\n",
            "  warnings.warn(\n",
            "/usr/local/lib/python3.10/dist-packages/sklearn/ensemble/_base.py:166: FutureWarning: `base_estimator` was renamed to `estimator` in version 1.2 and will be removed in 1.4.\n",
            "  warnings.warn(\n",
            "/usr/local/lib/python3.10/dist-packages/sklearn/ensemble/_base.py:166: FutureWarning: `base_estimator` was renamed to `estimator` in version 1.2 and will be removed in 1.4.\n",
            "  warnings.warn(\n",
            "/usr/local/lib/python3.10/dist-packages/sklearn/ensemble/_base.py:166: FutureWarning: `base_estimator` was renamed to `estimator` in version 1.2 and will be removed in 1.4.\n",
            "  warnings.warn(\n",
            "/usr/local/lib/python3.10/dist-packages/sklearn/ensemble/_base.py:166: FutureWarning: `base_estimator` was renamed to `estimator` in version 1.2 and will be removed in 1.4.\n",
            "  warnings.warn(\n",
            "/usr/local/lib/python3.10/dist-packages/sklearn/ensemble/_base.py:166: FutureWarning: `base_estimator` was renamed to `estimator` in version 1.2 and will be removed in 1.4.\n",
            "  warnings.warn(\n",
            "/usr/local/lib/python3.10/dist-packages/sklearn/ensemble/_base.py:166: FutureWarning: `base_estimator` was renamed to `estimator` in version 1.2 and will be removed in 1.4.\n",
            "  warnings.warn(\n",
            "/usr/local/lib/python3.10/dist-packages/sklearn/ensemble/_base.py:166: FutureWarning: `base_estimator` was renamed to `estimator` in version 1.2 and will be removed in 1.4.\n",
            "  warnings.warn(\n",
            "/usr/local/lib/python3.10/dist-packages/sklearn/ensemble/_base.py:166: FutureWarning: `base_estimator` was renamed to `estimator` in version 1.2 and will be removed in 1.4.\n",
            "  warnings.warn(\n",
            "/usr/local/lib/python3.10/dist-packages/sklearn/ensemble/_base.py:166: FutureWarning: `base_estimator` was renamed to `estimator` in version 1.2 and will be removed in 1.4.\n",
            "  warnings.warn(\n",
            "/usr/local/lib/python3.10/dist-packages/sklearn/ensemble/_base.py:166: FutureWarning: `base_estimator` was renamed to `estimator` in version 1.2 and will be removed in 1.4.\n",
            "  warnings.warn(\n",
            "/usr/local/lib/python3.10/dist-packages/sklearn/ensemble/_base.py:166: FutureWarning: `base_estimator` was renamed to `estimator` in version 1.2 and will be removed in 1.4.\n",
            "  warnings.warn(\n",
            "/usr/local/lib/python3.10/dist-packages/sklearn/ensemble/_base.py:166: FutureWarning: `base_estimator` was renamed to `estimator` in version 1.2 and will be removed in 1.4.\n",
            "  warnings.warn(\n",
            "/usr/local/lib/python3.10/dist-packages/sklearn/ensemble/_base.py:166: FutureWarning: `base_estimator` was renamed to `estimator` in version 1.2 and will be removed in 1.4.\n",
            "  warnings.warn(\n",
            "/usr/local/lib/python3.10/dist-packages/sklearn/ensemble/_base.py:166: FutureWarning: `base_estimator` was renamed to `estimator` in version 1.2 and will be removed in 1.4.\n",
            "  warnings.warn(\n",
            "/usr/local/lib/python3.10/dist-packages/sklearn/ensemble/_base.py:166: FutureWarning: `base_estimator` was renamed to `estimator` in version 1.2 and will be removed in 1.4.\n",
            "  warnings.warn(\n",
            "/usr/local/lib/python3.10/dist-packages/sklearn/ensemble/_base.py:166: FutureWarning: `base_estimator` was renamed to `estimator` in version 1.2 and will be removed in 1.4.\n",
            "  warnings.warn(\n",
            "/usr/local/lib/python3.10/dist-packages/sklearn/ensemble/_base.py:166: FutureWarning: `base_estimator` was renamed to `estimator` in version 1.2 and will be removed in 1.4.\n",
            "  warnings.warn(\n",
            "/usr/local/lib/python3.10/dist-packages/sklearn/ensemble/_base.py:166: FutureWarning: `base_estimator` was renamed to `estimator` in version 1.2 and will be removed in 1.4.\n",
            "  warnings.warn(\n",
            "/usr/local/lib/python3.10/dist-packages/sklearn/ensemble/_base.py:166: FutureWarning: `base_estimator` was renamed to `estimator` in version 1.2 and will be removed in 1.4.\n",
            "  warnings.warn(\n",
            "/usr/local/lib/python3.10/dist-packages/sklearn/ensemble/_base.py:166: FutureWarning: `base_estimator` was renamed to `estimator` in version 1.2 and will be removed in 1.4.\n",
            "  warnings.warn(\n",
            "/usr/local/lib/python3.10/dist-packages/sklearn/ensemble/_base.py:166: FutureWarning: `base_estimator` was renamed to `estimator` in version 1.2 and will be removed in 1.4.\n",
            "  warnings.warn(\n",
            "/usr/local/lib/python3.10/dist-packages/sklearn/ensemble/_base.py:166: FutureWarning: `base_estimator` was renamed to `estimator` in version 1.2 and will be removed in 1.4.\n",
            "  warnings.warn(\n",
            "/usr/local/lib/python3.10/dist-packages/sklearn/ensemble/_base.py:166: FutureWarning: `base_estimator` was renamed to `estimator` in version 1.2 and will be removed in 1.4.\n",
            "  warnings.warn(\n",
            "/usr/local/lib/python3.10/dist-packages/sklearn/ensemble/_base.py:166: FutureWarning: `base_estimator` was renamed to `estimator` in version 1.2 and will be removed in 1.4.\n",
            "  warnings.warn(\n",
            "/usr/local/lib/python3.10/dist-packages/sklearn/ensemble/_base.py:166: FutureWarning: `base_estimator` was renamed to `estimator` in version 1.2 and will be removed in 1.4.\n",
            "  warnings.warn(\n",
            "/usr/local/lib/python3.10/dist-packages/sklearn/ensemble/_base.py:166: FutureWarning: `base_estimator` was renamed to `estimator` in version 1.2 and will be removed in 1.4.\n",
            "  warnings.warn(\n",
            "/usr/local/lib/python3.10/dist-packages/sklearn/ensemble/_base.py:166: FutureWarning: `base_estimator` was renamed to `estimator` in version 1.2 and will be removed in 1.4.\n",
            "  warnings.warn(\n",
            "/usr/local/lib/python3.10/dist-packages/sklearn/ensemble/_base.py:166: FutureWarning: `base_estimator` was renamed to `estimator` in version 1.2 and will be removed in 1.4.\n",
            "  warnings.warn(\n",
            "/usr/local/lib/python3.10/dist-packages/sklearn/ensemble/_base.py:166: FutureWarning: `base_estimator` was renamed to `estimator` in version 1.2 and will be removed in 1.4.\n",
            "  warnings.warn(\n",
            "/usr/local/lib/python3.10/dist-packages/sklearn/ensemble/_base.py:166: FutureWarning: `base_estimator` was renamed to `estimator` in version 1.2 and will be removed in 1.4.\n",
            "  warnings.warn(\n",
            "/usr/local/lib/python3.10/dist-packages/sklearn/ensemble/_base.py:166: FutureWarning: `base_estimator` was renamed to `estimator` in version 1.2 and will be removed in 1.4.\n",
            "  warnings.warn(\n",
            "/usr/local/lib/python3.10/dist-packages/sklearn/ensemble/_base.py:166: FutureWarning: `base_estimator` was renamed to `estimator` in version 1.2 and will be removed in 1.4.\n",
            "  warnings.warn(\n",
            "/usr/local/lib/python3.10/dist-packages/sklearn/ensemble/_base.py:166: FutureWarning: `base_estimator` was renamed to `estimator` in version 1.2 and will be removed in 1.4.\n",
            "  warnings.warn(\n",
            "/usr/local/lib/python3.10/dist-packages/sklearn/ensemble/_base.py:166: FutureWarning: `base_estimator` was renamed to `estimator` in version 1.2 and will be removed in 1.4.\n",
            "  warnings.warn(\n",
            "/usr/local/lib/python3.10/dist-packages/sklearn/ensemble/_base.py:166: FutureWarning: `base_estimator` was renamed to `estimator` in version 1.2 and will be removed in 1.4.\n",
            "  warnings.warn(\n",
            "/usr/local/lib/python3.10/dist-packages/sklearn/ensemble/_base.py:166: FutureWarning: `base_estimator` was renamed to `estimator` in version 1.2 and will be removed in 1.4.\n",
            "  warnings.warn(\n",
            "/usr/local/lib/python3.10/dist-packages/sklearn/ensemble/_base.py:166: FutureWarning: `base_estimator` was renamed to `estimator` in version 1.2 and will be removed in 1.4.\n",
            "  warnings.warn(\n",
            "/usr/local/lib/python3.10/dist-packages/sklearn/ensemble/_base.py:166: FutureWarning: `base_estimator` was renamed to `estimator` in version 1.2 and will be removed in 1.4.\n",
            "  warnings.warn(\n",
            "/usr/local/lib/python3.10/dist-packages/sklearn/ensemble/_base.py:166: FutureWarning: `base_estimator` was renamed to `estimator` in version 1.2 and will be removed in 1.4.\n",
            "  warnings.warn(\n",
            "/usr/local/lib/python3.10/dist-packages/sklearn/ensemble/_base.py:166: FutureWarning: `base_estimator` was renamed to `estimator` in version 1.2 and will be removed in 1.4.\n",
            "  warnings.warn(\n",
            "/usr/local/lib/python3.10/dist-packages/sklearn/ensemble/_base.py:166: FutureWarning: `base_estimator` was renamed to `estimator` in version 1.2 and will be removed in 1.4.\n",
            "  warnings.warn(\n",
            "/usr/local/lib/python3.10/dist-packages/sklearn/ensemble/_base.py:166: FutureWarning: `base_estimator` was renamed to `estimator` in version 1.2 and will be removed in 1.4.\n",
            "  warnings.warn(\n",
            "/usr/local/lib/python3.10/dist-packages/sklearn/ensemble/_base.py:166: FutureWarning: `base_estimator` was renamed to `estimator` in version 1.2 and will be removed in 1.4.\n",
            "  warnings.warn(\n",
            "/usr/local/lib/python3.10/dist-packages/sklearn/ensemble/_base.py:166: FutureWarning: `base_estimator` was renamed to `estimator` in version 1.2 and will be removed in 1.4.\n",
            "  warnings.warn(\n",
            "/usr/local/lib/python3.10/dist-packages/sklearn/ensemble/_base.py:166: FutureWarning: `base_estimator` was renamed to `estimator` in version 1.2 and will be removed in 1.4.\n",
            "  warnings.warn(\n",
            "/usr/local/lib/python3.10/dist-packages/sklearn/ensemble/_base.py:166: FutureWarning: `base_estimator` was renamed to `estimator` in version 1.2 and will be removed in 1.4.\n",
            "  warnings.warn(\n",
            "/usr/local/lib/python3.10/dist-packages/sklearn/ensemble/_base.py:166: FutureWarning: `base_estimator` was renamed to `estimator` in version 1.2 and will be removed in 1.4.\n",
            "  warnings.warn(\n",
            "/usr/local/lib/python3.10/dist-packages/sklearn/ensemble/_base.py:166: FutureWarning: `base_estimator` was renamed to `estimator` in version 1.2 and will be removed in 1.4.\n",
            "  warnings.warn(\n",
            "/usr/local/lib/python3.10/dist-packages/sklearn/ensemble/_base.py:166: FutureWarning: `base_estimator` was renamed to `estimator` in version 1.2 and will be removed in 1.4.\n",
            "  warnings.warn(\n"
          ]
        },
        {
          "output_type": "display_data",
          "data": {
            "text/plain": [
              "<Figure size 800x500 with 1 Axes>"
            ],
            "image/png": "[encoded data removed]"
          },
          "metadata": {}
        }
      ],
      "source": [
        "from sklearn.datasets import load_breast_cancer\n",
        "from sklearn.model_selection import cross_val_score\n",
        "from sklearn.ensemble import AdaBoostClassifier\n",
        "from sklearn.tree import DecisionTreeClassifier\n",
        "import numpy as np\n",
        "import matplotlib.pyplot as plt\n",
        "\n",
        "# Load the breast cancer dataset\n",
        "X, y = load_breast_cancer(return_X_y=True)\n",
        "\n",
        "# Range of depths to test\n",
        "depths = range(1, 6)\n",
        "cv_errors = []\n",
        "\n",
        "for depth in depths:\n",
        "    # Instantiate the base learner: a decision tree of specified depth\n",
        "    base_learner = DecisionTreeClassifier(max_depth=depth, random_state=101)\n",
        "\n",
        "    # Instantiate the AdaBoost classifier with the base learner\n",
        "    ada_boost = AdaBoostClassifier(base_estimator=base_learner,\n",
        "                                   n_estimators=10,\n",
        "                                   learning_rate=1,\n",
        "                                   random_state=101)\n",
        "\n",
        "    # Perform 10-fold cross-validation and record the average error\n",
        "    scores = cross_val_score(ada_boost, X, y, cv=10, scoring='accuracy')\n",
        "    cv_errors.append(1 - np.mean(scores))\n",
        "\n",
        "# Plotting the curve of 1 - accuracy (error) against base classifier depth\n",
        "plt.figure(figsize=(8, 5))\n",
        "plt.plot(depths, cv_errors, marker='o', linestyle='-', color='blue')\n",
        "plt.xlabel('Depth of Base Classifier')\n",
        "plt.ylabel('10-fold Cross-validated Error')\n",
        "plt.title('Error vs. Depth of Base Classifier in AdaBoost')\n",
        "plt.xticks(depths)\n",
        "plt.grid(True)\n",
        "plt.show()\n"
      ]
    }
  ],
  "metadata": {
    "colab": {
      "provenance": [],
      "include_colab_link": true
    },
    "kernelspec": {
      "display_name": "Python 3",
      "language": "python",
      "name": "python3"
    },
    "language_info": {
      "codemirror_mode": {
        "name": "ipython",
        "version": 3
      },
      "file_extension": ".py",
      "mimetype": "text/x-python",
      "name": "python",
      "nbconvert_exporter": "python",
      "pygments_lexer": "ipython3",
      "version": "3.8.5"
    }
  },
  "nbformat": 4,
  "nbformat_minor": 0
}